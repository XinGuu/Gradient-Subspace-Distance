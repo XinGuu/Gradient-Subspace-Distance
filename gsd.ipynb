{
  "cells": [
    {
      "cell_type": "markdown",
      "metadata": {
        "id": "view-in-github",
        "colab_type": "text"
      },
      "source": [
        "<a href=\"https://colab.research.google.com/github/XinGuu/Gradient-Subspace-Distance/blob/main/gsd.ipynb\" target=\"_parent\"><img src=\"https://colab.research.google.com/assets/colab-badge.svg\" alt=\"Open In Colab\"/></a>"
      ]
    },
    {
      "metadata": {
        "id": "ae110140bd331b5f"
      },
      "cell_type": "code",
      "outputs": [],
      "execution_count": null,
      "source": [
        "import torch\n",
        "\n",
        "device = torch.device(\"cuda\" if torch.cuda.is_available() else \"cpu\")"
      ],
      "id": "ae110140bd331b5f"
    },
    {
      "metadata": {
        "id": "a8521b9843b680b1"
      },
      "cell_type": "markdown",
      "source": [
        "## Prepare public and private datasets"
      ],
      "id": "a8521b9843b680b1"
    },
    {
      "metadata": {
        "ExecuteTime": {
          "end_time": "2025-07-21T16:39:10.796435Z",
          "start_time": "2025-07-21T16:39:08.789956Z"
        },
        "id": "b8d255a346e78943"
      },
      "cell_type": "code",
      "source": [
        "from torchvision import transforms, datasets\n",
        "from torch.utils.data import DataLoader, Subset, Dataset\n",
        "\n",
        "n_samples = 2000\n",
        "batch_size = 200\n",
        "\n",
        "transform = transforms.Compose([\n",
        "    transforms.ToTensor(),\n",
        "])\n",
        "\n",
        "num_classes = 10\n",
        "private_dataset = datasets.CIFAR10(root='./data', train=True, download=True, transform=transform)\n",
        "private_dataset = Subset(private_dataset, torch.randperm(len(private_dataset))[:n_samples])\n",
        "private_loader = DataLoader(private_dataset, batch_size=batch_size, shuffle=False)\n",
        "\n",
        "public_dataset = datasets.CIFAR100(root='./data', train=False, download=True, transform=transform)\n",
        "public_dataset = Subset(public_dataset, torch.randperm(len(public_dataset))[:n_samples])\n",
        "public_loader = DataLoader(public_dataset, batch_size=batch_size, shuffle=False)"
      ],
      "id": "b8d255a346e78943",
      "outputs": [],
      "execution_count": null
    },
    {
      "metadata": {
        "id": "2ef900f91418bcb1"
      },
      "cell_type": "markdown",
      "source": [
        "## Prepare model"
      ],
      "id": "2ef900f91418bcb1"
    },
    {
      "metadata": {
        "ExecuteTime": {
          "end_time": "2025-07-21T16:39:13.529684Z",
          "start_time": "2025-07-21T16:39:12.719378Z"
        },
        "id": "f2fefeb825971f7c"
      },
      "cell_type": "code",
      "source": [
        "from torchvision import models\n",
        "import torch.nn as nn\n",
        "import torch.nn.functional as F\n",
        "\n",
        "\n",
        "class TinyCNN(nn.Module):\n",
        "    def __init__(self, num_classes: int = 10, dense_size: int = 32):\n",
        "        super().__init__()\n",
        "\n",
        "        self.backbone = nn.Sequential(\n",
        "            nn.Sequential(\n",
        "                nn.Conv2d(3, 16, 3, padding=1),  # (3,H,W) -> (16,H,W)\n",
        "                nn.GroupNorm(8, 16),\n",
        "                nn.ReLU()\n",
        "            ),\n",
        "            nn.Sequential(\n",
        "                nn.Conv2d(16, 32, 3, padding=1, stride=2),  # -> (32,H/2,W/2)\n",
        "                nn.GroupNorm(8, 32),\n",
        "                nn.ReLU()\n",
        "            ),\n",
        "            nn.Sequential(\n",
        "                nn.Conv2d(32, 64, 3, padding=1, stride=2),  # -> (64,H/4,W/4)\n",
        "                nn.GroupNorm(16, 64),\n",
        "                nn.ReLU()\n",
        "            ),\n",
        "            nn.AdaptiveAvgPool2d(2),  # (64,2,2)\n",
        "            nn.Flatten(),\n",
        "        )\n",
        "\n",
        "        self.head = nn.Sequential(\n",
        "            nn.Linear(64 * 2 * 2, dense_size),\n",
        "            nn.ReLU(),\n",
        "            nn.Linear(dense_size, num_classes)\n",
        "        )\n",
        "\n",
        "    def forward(self, x):\n",
        "        features = self.backbone(x)\n",
        "        return self.head(features)\n",
        "\n",
        "model = TinyCNN(num_classes)\n",
        "\n",
        "model = model.to(device)"
      ],
      "id": "f2fefeb825971f7c",
      "outputs": [],
      "execution_count": null
    },
    {
      "metadata": {
        "id": "7abea81ed7972016"
      },
      "cell_type": "markdown",
      "source": [
        "## Compute per-sample gradients"
      ],
      "id": "7abea81ed7972016"
    },
    {
      "metadata": {
        "id": "dfd81b2566a94a4c"
      },
      "cell_type": "code",
      "outputs": [],
      "execution_count": null,
      "source": [
        "from torch.func import grad, vmap\n",
        "\n",
        "\n",
        "def compute_per_sample_grads(model, dataloader, criterion):\n",
        "    model.eval()\n",
        "    model.zero_grad()\n",
        "\n",
        "    per_sample_grads = None\n",
        "\n",
        "    # Gather all parameters that require gradients\n",
        "    named_parameters = [(name, p) for name, p in model.named_parameters() if p.requires_grad]\n",
        "\n",
        "    flat_params = torch.cat([p.flatten() for _, p in named_parameters])\n",
        "\n",
        "    def reconstruct_named_params(flat_params, named_parameters):\n",
        "        offset = 0\n",
        "        ndict = {}\n",
        "        for name, p in named_parameters:\n",
        "            numel = p.numel()\n",
        "            ndict[name] = flat_params[offset:offset + numel].view_as(p)\n",
        "            offset += numel\n",
        "        return ndict\n",
        "\n",
        "    def loss_fn(params, X, Y):\n",
        "        named_params_map = reconstruct_named_params(params, named_parameters)\n",
        "        preds = torch.func.functional_call(model, named_params_map, (X,))\n",
        "        loss = criterion(preds, Y)\n",
        "        return loss\n",
        "\n",
        "    # Precompute the gradient function once\n",
        "    grad_fn = vmap(grad(loss_fn), in_dims=(None, 0, 0))\n",
        "\n",
        "    for step, batch in enumerate(dataloader):\n",
        "        batch = tuple(t.to(device) for t in batch)\n",
        "        inputs, labels = batch\n",
        "        labels = torch.randint(high=num_classes, size=labels.shape, device=labels.device)\n",
        "        inputs = inputs.unsqueeze(1)\n",
        "        labels = labels.unsqueeze(1)\n",
        "\n",
        "        if per_sample_grads is None:\n",
        "            per_sample_grads = grad_fn(flat_params, inputs, labels)\n",
        "        else:\n",
        "            per_sample_grads = torch.cat([per_sample_grads, grad_fn(flat_params, inputs, labels)], dim=0)\n",
        "\n",
        "    return per_sample_grads  # n x p\n",
        "\n",
        "\n",
        "criterion = nn.CrossEntropyLoss(reduction='sum')\n",
        "private_per_sample_grads = compute_per_sample_grads(model, private_loader, criterion)\n",
        "public_per_sample_grads = compute_per_sample_grads(model, public_loader, criterion)"
      ],
      "id": "dfd81b2566a94a4c"
    },
    {
      "metadata": {
        "id": "79568a2b20fecdaf"
      },
      "cell_type": "markdown",
      "source": [
        "## Compute GSD"
      ],
      "id": "79568a2b20fecdaf"
    },
    {
      "metadata": {
        "id": "badcbf952c0de3eb"
      },
      "cell_type": "code",
      "outputs": [],
      "execution_count": null,
      "source": [
        "import numpy as np\n",
        "\n",
        "k = 16\n",
        "\n",
        "_, _, Vh_private = torch.linalg.svd(private_per_sample_grads, full_matrices=False)\n",
        "V_private_k = Vh_private.conj().transpose(-2, -1)[:, :k]\n",
        "\n",
        "_, _, Vh_public = torch.linalg.svd(public_per_sample_grads, full_matrices=False)\n",
        "V_public_k = Vh_public.conj().transpose(-2, -1)[:, :k]\n",
        "\n",
        "def principle_angle(v1, v2):\n",
        "    u, s, vh = torch.linalg.svd(v1.conj().transpose(-2, -1) @ v2)\n",
        "    return s\n",
        "\n",
        "\n",
        "def projection_metric(v1, v2):\n",
        "    angles = principle_angle(v1, v2)\n",
        "    return torch.sqrt(len(angles) - torch.sum(angles ** 2)) / np.sqrt(len(angles))\n",
        "\n",
        "gsd = projection_metric(V_private_k, V_public_k).item()\n",
        "print(f\"GSD: {gsd:.4f}\")"
      ],
      "id": "badcbf952c0de3eb"
    }
  ],
  "metadata": {
    "kernelspec": {
      "display_name": "Python 3",
      "name": "python3"
    },
    "language_info": {
      "codemirror_mode": {
        "name": "ipython",
        "version": 2
      },
      "file_extension": ".py",
      "mimetype": "text/x-python",
      "name": "python",
      "nbconvert_exporter": "python",
      "pygments_lexer": "ipython2",
      "version": "2.7.6"
    },
    "colab": {
      "provenance": [],
      "gpuType": "T4",
      "include_colab_link": true
    },
    "accelerator": "GPU"
  },
  "nbformat": 4,
  "nbformat_minor": 5
}