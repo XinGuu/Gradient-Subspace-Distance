{
  "cells": [
    {
      "cell_type": "markdown",
      "metadata": {
        "id": "view-in-github",
        "colab_type": "text"
      },
      "source": [
        "<a href=\"https://colab.research.google.com/github/XinGuu/Gradient-Subspace-Distance/blob/main/gsd.ipynb\" target=\"_parent\"><img src=\"https://colab.research.google.com/assets/colab-badge.svg\" alt=\"Open In Colab\"/></a>"
      ]
    },
    {
      "metadata": {
        "id": "ae110140bd331b5f"
      },
      "cell_type": "code",
      "outputs": [],
      "execution_count": null,
      "source": [
        "import torch\n",
        "\n",
        "device = torch.device(\"cuda\" if torch.cuda.is_available() else \"cpu\")"
      ],
      "id": "ae110140bd331b5f"
    },
    {
      "metadata": {
        "id": "a8521b9843b680b1"
      },
      "cell_type": "markdown",
      "source": [
        "## Prepare public and private datasets"
      ],
      "id": "a8521b9843b680b1"
    },
    {
      "metadata": {
        "ExecuteTime": {
          "end_time": "2025-07-21T16:39:10.796435Z",
          "start_time": "2025-07-21T16:39:08.789956Z"
        },
        "id": "b8d255a346e78943",
        "outputId": "026eeafd-233d-459f-d37c-ff5f4ca50914"
      },
      "cell_type": "code",
      "source": [
        "from torchvision import transforms, datasets\n",
        "from torch.utils.data import DataLoader, Subset, Dataset\n",
        "\n",
        "n_samples = 2000\n",
        "dataset_slice = list(range(n_samples))\n",
        "\n",
        "transform = transforms.Compose([\n",
        "            transforms.Resize((224, 224)),\n",
        "            transforms.ToTensor(),\n",
        "            transforms.Normalize([0.5, 0.5, 0.5], [0.5, 0.5, 0.5])\n",
        "        ])\n",
        "\n",
        "num_classes = 10\n",
        "private_dataset = datasets.CIFAR10(root='./data', train=True, download=True, transform=transform)\n",
        "private_dataset = Subset(private_dataset, dataset_slice)\n",
        "private_loader = DataLoader(private_dataset, batch_size=n_samples, shuffle=False)\n",
        "\n",
        "public_dataset = datasets.CIFAR100(root='./data', train=False, download=True, transform=transform)\n",
        "public_dataset = Subset(public_dataset, dataset_slice)\n",
        "public_loader = DataLoader(public_dataset, batch_size=n_samples, shuffle=False)"
      ],
      "id": "b8d255a346e78943",
      "outputs": [
        {
          "name": "stdout",
          "output_type": "stream",
          "text": [
            "Files already downloaded and verified\n",
            "Files already downloaded and verified\n"
          ]
        }
      ],
      "execution_count": null
    },
    {
      "metadata": {
        "id": "2ef900f91418bcb1"
      },
      "cell_type": "markdown",
      "source": [
        "## Prepare model"
      ],
      "id": "2ef900f91418bcb1"
    },
    {
      "metadata": {
        "ExecuteTime": {
          "end_time": "2025-07-21T16:39:13.529684Z",
          "start_time": "2025-07-21T16:39:12.719378Z"
        },
        "id": "f2fefeb825971f7c"
      },
      "cell_type": "code",
      "source": [
        "from torchvision import models\n",
        "import torch.nn as nn\n",
        "from opacus import GradSampleModule\n",
        "\n",
        "\n",
        "model = models.resnet152(pretrained=True)\n",
        "for name, param in model.named_parameters():\n",
        "    param.requires_grad = False\n",
        "\n",
        "num_ftrs = model.fc.in_features\n",
        "model.fc = nn.Linear(num_ftrs, num_classes)\n",
        "\n",
        "model = GradSampleModule(model)\n",
        "model = model.to(device)"
      ],
      "id": "f2fefeb825971f7c",
      "outputs": [],
      "execution_count": null
    },
    {
      "metadata": {
        "id": "7abea81ed7972016"
      },
      "cell_type": "markdown",
      "source": [
        "## Compute per-sample gradients"
      ],
      "id": "7abea81ed7972016"
    },
    {
      "metadata": {
        "id": "dfd81b2566a94a4c"
      },
      "cell_type": "code",
      "outputs": [],
      "execution_count": null,
      "source": [
        "def flatten_tensor(tensor_list):\n",
        "    for i in range(len(tensor_list)):\n",
        "        tensor_list[i] = tensor_list[i].reshape([tensor_list[i].shape[0], -1])\n",
        "    flatten_param = torch.cat(tensor_list, dim=1)\n",
        "    del tensor_list\n",
        "    return flatten_param\n",
        "\n",
        "\n",
        "def compute_per_sample_grads(model, dataloader, criterion):\n",
        "    model.eval()\n",
        "    model.zero_grad()\n",
        "\n",
        "    per_sample_grads = None\n",
        "\n",
        "    for step, batch in enumerate(dataloader):\n",
        "        cur_batch_grad_list = []\n",
        "        batch = tuple(t.to(device) for t in batch)\n",
        "        inputs, labels = batch\n",
        "        labels = torch.randint(high=num_classes, size=labels.shape, device=labels.device)\n",
        "        pred = model(inputs)\n",
        "        loss = criterion(pred, labels)\n",
        "        loss.backward()\n",
        "\n",
        "        for p in filter(lambda p: p.requires_grad, model.parameters()):\n",
        "            cur_batch_grad_list.append(p.grad_sample.reshape(p.grad_sample.shape[0], -1))\n",
        "            del p.grad_sample, p.grad\n",
        "\n",
        "        if per_sample_grads is None:\n",
        "            per_sample_grads = flatten_tensor(cur_batch_grad_list)\n",
        "        else:\n",
        "            per_sample_grads = torch.vstack((per_sample_grads, flatten_tensor(cur_batch_grad_list)))\n",
        "\n",
        "    return per_sample_grads  # n x p\n",
        "\n",
        "\n",
        "criterion = nn.CrossEntropyLoss()\n",
        "private_per_sample_grads = compute_per_sample_grads(model, private_loader, criterion)\n",
        "public_per_sample_grads = compute_per_sample_grads(model, public_loader, criterion)"
      ],
      "id": "dfd81b2566a94a4c"
    },
    {
      "metadata": {
        "id": "79568a2b20fecdaf"
      },
      "cell_type": "markdown",
      "source": [
        "## Compute GSD"
      ],
      "id": "79568a2b20fecdaf"
    },
    {
      "metadata": {
        "id": "badcbf952c0de3eb"
      },
      "cell_type": "code",
      "outputs": [],
      "execution_count": null,
      "source": [
        "import numpy as np\n",
        "\n",
        "k = 16\n",
        "\n",
        "_, _, Vh_private = torch.linalg.svd(private_per_sample_grads, full_matrices=False)\n",
        "V_private_k = Vh_private.conj().transpose(-2, -1)[:, :k]\n",
        "\n",
        "_, _, Vh_public = torch.linalg.svd(public_per_sample_grads, full_matrices=False)\n",
        "V_public_k = Vh_public.conj().transpose(-2, -1)[:, :k]\n",
        "\n",
        "def principle_angle(v1, v2):\n",
        "    u, s, vh = torch.linalg.svd(v1.conj().transpose(-2, -1) @ v2)\n",
        "    return s\n",
        "\n",
        "\n",
        "def projection_metric(v1, v2):\n",
        "    angles = principle_angle(v1, v2)\n",
        "    return torch.sqrt(len(angles) - torch.sum(angles ** 2)) / np.sqrt(len(angles))\n",
        "\n",
        "gsd = projection_metric(V_private_k, V_public_k).item()\n",
        "print(f\"GSD: {gsd:.4f}\")"
      ],
      "id": "badcbf952c0de3eb"
    }
  ],
  "metadata": {
    "kernelspec": {
      "display_name": "Python 3",
      "name": "python3"
    },
    "language_info": {
      "codemirror_mode": {
        "name": "ipython",
        "version": 2
      },
      "file_extension": ".py",
      "mimetype": "text/x-python",
      "name": "python",
      "nbconvert_exporter": "python",
      "pygments_lexer": "ipython2",
      "version": "2.7.6"
    },
    "colab": {
      "provenance": [],
      "gpuType": "T4",
      "include_colab_link": true
    },
    "accelerator": "GPU"
  },
  "nbformat": 4,
  "nbformat_minor": 5
}